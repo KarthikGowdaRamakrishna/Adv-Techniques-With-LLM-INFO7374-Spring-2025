{
  "nbformat": 4,
  "nbformat_minor": 0,
  "metadata": {
    "colab": {
      "provenance": [],
      "gpuType": "T4"
    },
    "kernelspec": {
      "name": "python3",
      "display_name": "Python 3"
    },
    "language_info": {
      "name": "python"
    },
    "accelerator": "GPU"
  },
  "cells": [
    {
      "cell_type": "code",
      "source": [],
      "metadata": {
        "id": "DhfQcoD9D_uE"
      },
      "execution_count": null,
      "outputs": []
    },
    {
      "cell_type": "markdown",
      "source": [
        "# Assignment 1 (50 points)"
      ],
      "metadata": {
        "id": "BevRMflsqwin"
      }
    },
    {
      "cell_type": "code",
      "source": [
        "%matplotlib inline\n",
        "import numpy as np\n",
        "import matplotlib.pyplot as plt\n",
        "import torch\n",
        "from torch import nn as nn\n",
        "from torch.nn import functional as F"
      ],
      "metadata": {
        "id": "VFcJgUtfyr-C"
      },
      "execution_count": 1,
      "outputs": []
    },
    {
      "cell_type": "markdown",
      "source": [
        "## Problem 1 (20 points)\n",
        "\n",
        "Optimize the following loss:\n",
        "$L = (leaky\\_relu(w1 * x1 + w2 * x2) - 5) ^ 2$\n",
        "\n",
        "This represents a single neuron with 2 inputs (x1 and x2) with tunable parameters (w1 and w2). The neuron has leaky relu activation function defined below. The output should be equal to 5. We are measuring the loss using the L2 loss.\n",
        "\n",
        "\n",
        "$\\text{LeakyReLU}(x) = \\begin{cases}\n",
        "x, & \\text{if } x > 0 \\\\\n",
        "0.01 * x, & \\text{otherwise}\n",
        "\\end{cases}$\n",
        "\n",
        "\n",
        "Hints:\n",
        "1. Since leaky relu is a piecewise function (is calculated different depending on the value of x), the derivative calculation will also be calculated differently depending on the value of x\n",
        "2. Consider that:\n",
        "\n",
        "$sum = w1 * x1 + w2 * x2$\n",
        "\n",
        "$output = leaky\\_relu(sum)$\n",
        "\n",
        "$L = (output - 5) ^ 2$\n",
        "\n",
        "How can we use the chain rule to $\\frac{\\delta L}{\\delta w1}$ and $\\frac{\\delta L}{\\delta w2}$?\n"
      ],
      "metadata": {
        "id": "poZiZrQyyNOT"
      }
    },
    {
      "cell_type": "code",
      "source": [
        "def leaky_relu(x):\n",
        "    if x > 0:\n",
        "        return x\n",
        "    else:\n",
        "        return 0.01 * x\n",
        "\n",
        "xs = np.arange(-10, 10)\n",
        "print(xs)\n",
        "\n",
        "ys = [leaky_relu(x) for x in xs]\n",
        "print(ys)\n",
        "plt.title('leaky relu')\n",
        "plt.plot(xs, ys)"
      ],
      "metadata": {
        "id": "t_PBMtOryN0D",
        "colab": {
          "base_uri": "https://localhost:8080/",
          "height": 523
        },
        "outputId": "da2669f7-467a-4690-ee37-0315a12b18e8"
      },
      "execution_count": 3,
      "outputs": [
        {
          "output_type": "stream",
          "name": "stdout",
          "text": [
            "[-10  -9  -8  -7  -6  -5  -4  -3  -2  -1   0   1   2   3   4   5   6   7\n",
            "   8   9]\n",
            "[-0.1, -0.09, -0.08, -0.07, -0.06, -0.05, -0.04, -0.03, -0.02, -0.01, 0.0, 1, 2, 3, 4, 5, 6, 7, 8, 9]\n"
          ]
        },
        {
          "output_type": "execute_result",
          "data": {
            "text/plain": [
              "[<matplotlib.lines.Line2D at 0x7de5bea53c50>]"
            ]
          },
          "metadata": {},
          "execution_count": 3
        },
        {
          "output_type": "display_data",
          "data": {
            "text/plain": [
              "<Figure size 640x480 with 1 Axes>"
            ],
            "image/png": "[encoded data removed]"
          },
          "metadata": {}
        }
      ]
    },
    {
      "cell_type": "markdown",
      "source": [
        "As far as i can see there is implimentation the above code of accounting for the gardient descend to find lowest loss so we will"
      ],
      "metadata": {
        "id": "oAKLUK3gWxe-"
      }
    },
    {
      "cell_type": "code",
      "source": [
        "import numpy as np\n",
        "import matplotlib.pyplot as plt\n",
        "\n",
        "def leaky_relu(x):\n",
        "    return x if x > 0 else 0.01 * x\n",
        "\n",
        "xs = np.arange(-10, 10, 1)\n",
        "learning_rate = 0.1\n",
        "\n",
        "# Initialize weights say w⋅x=5⟹w= 5/10(max of input) = 0.5\n",
        "w1 = 0.5\n",
        "\n",
        "ys = []\n",
        "# we will also need to store losses w.t.r inputs\n",
        "losses = []\n",
        "\n",
        "for x in xs:\n",
        "    sum_val = w1 * x\n",
        "    output = leaky_relu(sum_val)\n",
        "    ys.append(output)  # Store the output\n",
        "    loss = (output - 5) ** 2\n",
        "    losses.append(loss)\n",
        "\n",
        "    # using chain rule\n",
        "    grad_output = 2 * (output - 5)  # dL/doutput\n",
        "    grad_sum = grad_output * (1 if sum_val > 0 else 0.01)  # doutput/dsum\n",
        "    grad_w1 = grad_sum * x1  # dsum/dw1\n",
        "    grad_w2 = grad_sum * x2  # dsum/dw2\n",
        "\n",
        "    # Step 5: Update weights\n",
        "    w1 -= learning_rate * grad_w1\n",
        "    w2 -= learning_rate * grad_w2\n",
        "\n",
        "plt.title('leaky relu')\n",
        "plt.plot(xs, ys)\n"
      ],
      "metadata": {
        "id": "uFQsKsvzATrM",
        "outputId": "739d8da8-f56f-4308-a4a4-92e1f6d02cba",
        "colab": {
          "base_uri": "https://localhost:8080/",
          "height": 470
        }
      },
      "execution_count": 9,
      "outputs": [
        {
          "output_type": "execute_result",
          "data": {
            "text/plain": [
              "[<matplotlib.lines.Line2D at 0x7ac47d7b6e50>]"
            ]
          },
          "metadata": {},
          "execution_count": 9
        },
        {
          "output_type": "display_data",
          "data": {
            "text/plain": [
              "<Figure size 640x480 with 1 Axes>"
            ],
            "image/png": "[encoded data removed]"
          },
          "metadata": {}
        }
      ]
    },
    {
      "cell_type": "markdown",
      "source": [
        "### 1a. Backpropagation by hand (10 points)\n",
        "Optimize the loss using only python like we did in class. Derive the gradients by hand."
      ],
      "metadata": {
        "id": "d2c7vCPc13eC"
      }
    },
    {
      "cell_type": "code",
      "source": [
        "# initialization\n",
        "\n",
        "x1 = 5 # data\n",
        "x2 = 6\n",
        "\n",
        "w1 = 7 # model params\n",
        "w2 = 8\n",
        "\n",
        "lr = 0.01\n",
        "\n",
        "for i in range(100):\n",
        "    # implement here\n",
        "    pass\n",
        "\n",
        "\n",
        "print(leaky_relu(x1 * w1 + x2 * w2))"
      ],
      "metadata": {
        "id": "z1BmVmYc12w_"
      },
      "execution_count": null,
      "outputs": []
    },
    {
      "cell_type": "markdown",
      "source": [
        "### 1b. Reimplement 1a using torch. (5 points)\n",
        "\n",
        "Do not use `torch.optim`"
      ],
      "metadata": {
        "id": "C8lLoxJY4AIg"
      }
    },
    {
      "cell_type": "code",
      "source": [
        "x1 = torch.tensor(3., requires_grad=False) # data\n",
        "x2 = torch.tensor(4., requires_grad=False)\n",
        "\n",
        "w1 = torch.tensor(5., requires_grad=True) # model params\n",
        "w2 = torch.tensor(6., requires_grad=True)\n",
        "\n",
        "lr = 0.01\n",
        "\n",
        "for i in range(100):\n",
        "    # implement\n",
        "    pass\n",
        "\n",
        "prediction = (F.leaky_relu(x1*w1 + x2*w2)).detach().item()\n",
        "\n",
        "print(f\"prediction: \", prediction)"
      ],
      "metadata": {
        "id": "GL1z_OFR4kyP"
      },
      "execution_count": null,
      "outputs": []
    },
    {
      "cell_type": "markdown",
      "source": [
        "### 1c. Implement a 2 layer neural network. (5 points)\n",
        "\n",
        "The neural network should be able to take inputs of size [4, 32] (batch size of 4 with 32 features per sample). The first layer should have have an output dimension of 8 and use the leaky relu activation. The second layer should not use an activation function.\n",
        "\n",
        "Train the model so that it outputs 5. Use an L2 loss as we did in 1a and 1b.\n",
        "\n",
        "[Pytorch docs on how to use leaky relu](\"https://pytorch.org/docs/stable/generated/torch.nn.LeakyReLU.html\")"
      ],
      "metadata": {
        "id": "nX5raZxJ6FYu"
      }
    },
    {
      "cell_type": "code",
      "source": [
        "class MLP(nn.Module):\n",
        "    def __init__(self):\n",
        "        # implement\n",
        "        pass\n",
        "    def forward(self, x):\n",
        "        # implement\n",
        "        pass\n",
        "\n",
        "x = torch.randn((4, 32)).float()\n",
        "\n",
        "net = MLP()\n",
        "\n",
        "for _ in range(100):\n",
        "    # implement\n",
        "    pass\n",
        "\n",
        "prediction = net(x)\n",
        "print(f\"{prediction=}\")"
      ],
      "metadata": {
        "id": "9ktU5vCI3d98"
      },
      "execution_count": null,
      "outputs": []
    },
    {
      "cell_type": "markdown",
      "source": [
        "## Problem 2 (30 points)\n",
        "\n",
        "The objective is predict 0.6. This time, we will use an L1 loss, a sigmoid activation function, and 3 inputs instead. Specifically,\n",
        "\n",
        "\n",
        "$prediction = sigmoid(w1 * x1 + w2 * x2 + w3 * x3)$\n",
        "\n",
        "$loss = l1(prediction, 0.6)$\n",
        "\n",
        "where $sigmoid$ and $l1$ is defined as:\n",
        "\n",
        "$sigmoid(x) = \\frac{1}{1+e^{-x}}$\n",
        "\n",
        "and $l1(prediction, target) = absolute\\_value(prediction - target)$\n",
        "\n",
        "$\\text{absolute_value}(x) = \\begin{cases}\n",
        "x, & \\text{if } x > 0 \\\\\n",
        "-x, & \\text{otherwise}\n",
        "\\end{cases}$\n",
        "\n",
        "\n",
        "Note that the absolute value function is a piece wise function, similar to leaky_relu."
      ],
      "metadata": {
        "id": "4ceRhZFhfDqj"
      }
    },
    {
      "cell_type": "code",
      "source": [
        "def sigmoid(x):\n",
        "    return 1 / (1 + np.exp(-x))\n",
        "\n",
        "xs = np.arange(-10, 10, 0.01)\n",
        "\n",
        "ys = [sigmoid(x) for x in xs]\n",
        "plt.title('sigmoid')\n",
        "plt.plot(xs, ys)"
      ],
      "metadata": {
        "colab": {
          "base_uri": "https://localhost:8080/",
          "height": 470
        },
        "id": "GIfe0rrFifE0",
        "outputId": "3313132a-99eb-4809-ba34-c5edb518e5a4"
      },
      "execution_count": null,
      "outputs": [
        {
          "output_type": "execute_result",
          "data": {
            "text/plain": [
              "[<matplotlib.lines.Line2D at 0x7c4f883ab0a0>]"
            ]
          },
          "metadata": {},
          "execution_count": 7
        },
        {
          "output_type": "display_data",
          "data": {
            "text/plain": [
              "<Figure size 640x480 with 1 Axes>"
            ],
            "image/png": "[encoded data removed]"
          },
          "metadata": {}
        }
      ]
    },
    {
      "cell_type": "code",
      "source": [
        "def absolute_value(x):\n",
        "    if x < 0:\n",
        "        return -x\n",
        "    else:\n",
        "        return x\n",
        "\n",
        "xs = np.arange(-10, 10, 0.01)\n",
        "\n",
        "ys = [absolute_value(x) for x in xs]\n",
        "plt.title('absolute value')\n",
        "plt.plot(xs, ys)"
      ],
      "metadata": {
        "colab": {
          "base_uri": "https://localhost:8080/",
          "height": 470
        },
        "id": "xs4nG4glisGu",
        "outputId": "3f9d1f93-e350-4ef5-ceb1-c09aeeb088c9"
      },
      "execution_count": null,
      "outputs": [
        {
          "output_type": "execute_result",
          "data": {
            "text/plain": [
              "[<matplotlib.lines.Line2D at 0x7c4f88239ea0>]"
            ]
          },
          "metadata": {},
          "execution_count": 8
        },
        {
          "output_type": "display_data",
          "data": {
            "text/plain": [
              "<Figure size 640x480 with 1 Axes>"
            ],
            "image/png": "[encoded data removed]"
          },
          "metadata": {}
        }
      ]
    },
    {
      "cell_type": "markdown",
      "source": [
        "### 2a. Backpropagation by hand (15 points)\n",
        "Optimize the loss using only python like we did in class. Derive the gradients by hand."
      ],
      "metadata": {
        "id": "QzwGjnGflYnS"
      }
    },
    {
      "cell_type": "code",
      "source": [
        "# initialization\n",
        "\n",
        "x1, x2, x3 = 0.5, 0.6, 0.7 # data\n",
        "w1, w2, w3 = 0.7, 0.8, 0.9 # model\n",
        "\n",
        "lr = 0.01\n",
        "\n",
        "for i in range(100):\n",
        "    # implement here\n",
        "    pass\n",
        "\n",
        "\n",
        "print(sigmoid(x1 * w1 + x2 * w2 + x3 * w3))"
      ],
      "metadata": {
        "id": "cZbqLDRElhD9"
      },
      "execution_count": null,
      "outputs": []
    },
    {
      "cell_type": "markdown",
      "source": [
        "### 2b. Reimplement 2a using torch. (5 points)\n",
        "\n",
        "Do not use `torch.optim`"
      ],
      "metadata": {
        "id": "JbAsHIx6mSJG"
      }
    },
    {
      "cell_type": "code",
      "source": [
        "# implement here (follow the structure of 1b)"
      ],
      "metadata": {
        "id": "k8fxhBf8mbc2"
      },
      "execution_count": null,
      "outputs": []
    },
    {
      "cell_type": "markdown",
      "source": [
        "### 2c. Implement a 2 layer neural network. (10 points)\n",
        "\n",
        "The neural network should be able to take inputs of size [4, 32] (batch size of 4 with 32 features per sample). The first layer should have have an output dimension of 8 and use the sigmoid activation. The second layer should also use a sigmoid activation function.\n",
        "\n",
        "Train the model so that it outputs 0.6. Use an L2 loss as we did in 1a and 1b.\n",
        "\n",
        "[PyTorch docs for how to use sigmoid](https://pytorch.org/docs/stable/generated/torch.nn.Sigmoid.html)"
      ],
      "metadata": {
        "id": "Vjlgw7Kbhzmd"
      }
    },
    {
      "cell_type": "code",
      "source": [
        "# implement here (follow the structure of 1c)"
      ],
      "metadata": {
        "id": "2xma49c1iPG0"
      },
      "execution_count": null,
      "outputs": []
    },
    {
      "cell_type": "code",
      "source": [],
      "metadata": {
        "id": "3HQD2d2EhnqP"
      },
      "execution_count": null,
      "outputs": []
    }
  ]
}